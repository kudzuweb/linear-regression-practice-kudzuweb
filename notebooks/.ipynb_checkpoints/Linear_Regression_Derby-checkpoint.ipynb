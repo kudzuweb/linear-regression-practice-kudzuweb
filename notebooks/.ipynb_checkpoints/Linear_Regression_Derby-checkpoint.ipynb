{
 "cells": [
  {
   "cell_type": "markdown",
   "id": "f5d1ce7c",
   "metadata": {},
   "source": [
    "## Linear Regression\n",
    "\n",
    "In this notebook, we'll discuss linear regression and see how to fit and interpret the results of a linear regression model using the statsmodels library."
   ]
  },
  {
   "cell_type": "code",
   "execution_count": null,
   "id": "2c315e5a",
   "metadata": {},
   "outputs": [],
   "source": [
    "import numpy as np\n",
    "import pandas as pd\n",
    "import statsmodels.api as sm\n",
    "import statsmodels.formula.api as smf\n",
    "import matplotlib.pyplot as plt\n",
    "import seaborn as sns"
   ]
  },
  {
   "cell_type": "markdown",
   "id": "4fcb397e",
   "metadata": {},
   "source": [
    "We'll be working with a dataset which includes information on the winner of the Kentucky Derby from 1896 through 2017. We will explore how different factors influence the winner's speed.\n",
    "\n",
    "This notebook is largely based on [Chapter 1 of Beyond Multiple Linear Regression](https://bookdown.org/roback/bookdown-BeyondMLR/ch-MLRreview.html#multreg), an excellent resource for understanding statistical models."
   ]
  },
  {
   "cell_type": "code",
   "execution_count": null,
   "id": "bae6927d",
   "metadata": {},
   "outputs": [],
   "source": [
    "derby = pd.read_csv('../data/derbyplus.csv')"
   ]
  },
  {
   "cell_type": "code",
   "execution_count": null,
   "id": "54acac52",
   "metadata": {},
   "outputs": [],
   "source": [
    "derby"
   ]
  },
  {
   "cell_type": "markdown",
   "id": "b2ba3c9f",
   "metadata": {},
   "source": [
    "The `speed` variable gives the speed of the winner in feet per second. We will be using this data to look at how the other variables affect this speed variable.\n",
    "\n",
    "**Questions:**\n",
    "1. How does the condition of the track affect the speed of the winner, after controlling for the year?\n",
    "2. Does the number of starters have a statistically significant effect, after controlling for the year and the condition of the track?"
   ]
  },
  {
   "cell_type": "markdown",
   "id": "cf088011",
   "metadata": {},
   "source": [
    "## Exploratory Analysis"
   ]
  },
  {
   "cell_type": "markdown",
   "id": "b32c5199",
   "metadata": {},
   "source": [
    "Before building a model, let's start with exploratory analysis to understand the data that we have and the relationships between different variables."
   ]
  },
  {
   "cell_type": "markdown",
   "id": "f8975061",
   "metadata": {},
   "source": [
    "#### Single-Variable Analysis \n",
    "We can start with single-variable analysis. With this dataset, we are most interested in the speed column, so let's look at it first."
   ]
  },
  {
   "cell_type": "code",
   "execution_count": null,
   "id": "d184c216",
   "metadata": {},
   "outputs": [],
   "source": [
    "derby['speed'].describe()"
   ]
  },
  {
   "cell_type": "code",
   "execution_count": null,
   "id": "e7ac828f",
   "metadata": {},
   "outputs": [],
   "source": [
    "derby['speed'].plot(kind = \"hist\", \n",
    "                    edgecolor = 'black',\n",
    "                    bins = 25);"
   ]
  },
  {
   "cell_type": "markdown",
   "id": "bfb8c2ac",
   "metadata": {},
   "source": [
    "Let's also look at the number of starters."
   ]
  },
  {
   "cell_type": "code",
   "execution_count": null,
   "id": "39281ff8",
   "metadata": {},
   "outputs": [],
   "source": [
    "derby['starters'].plot(kind = \"hist\", \n",
    "                    edgecolor = 'black',\n",
    "                    bins = 20);"
   ]
  },
  {
   "cell_type": "markdown",
   "id": "7a448717",
   "metadata": {},
   "source": [
    "A factor that could influence the speed of the winner is the condition of the track.\n",
    "\n",
    "The possible conditions are:\n",
    "* Fast Track – Dry, even, and fast\n",
    "* Wet Fast – Soaked on the surface but still firm under the top layer\n",
    "* Good Track – A little wet, but still pretty fast\n",
    "* Muddy Track – Soaked and saturated. Ample amounts of mud\n",
    "* Sloppy – Similar to wet fast, “sloppy” describes track conditions which are firm underneath but present horses and jockeys with standing water or slick spots on top of the dirt\n",
    "* Slow – Somewhere between sloppy and heavy\n",
    "* Heavy – Heavy mud, the slowest possible racing conditions\n",
    "\n",
    "In our dataset, \"fast\" denotes a fast or a wet fast track, \"good\" denotes a good track, and \"slow\" denotes a muddy, sloppy, slow, or heavy track."
   ]
  },
  {
   "cell_type": "code",
   "execution_count": null,
   "id": "46753b05",
   "metadata": {},
   "outputs": [],
   "source": [
    "derby['condition'].value_counts(normalize = True)"
   ]
  },
  {
   "cell_type": "markdown",
   "id": "c4c90d0b",
   "metadata": {},
   "source": [
    "#### Multi-Variable Analysis\n",
    "\n",
    "Now, let's see what the relationships with the other variables and the speed of the winner look like.\n",
    "\n",
    "Let's start with the year."
   ]
  },
  {
   "cell_type": "code",
   "execution_count": null,
   "id": "4ca25a02",
   "metadata": {},
   "outputs": [],
   "source": [
    "derby.plot(x = 'year', y = 'speed', kind = 'scatter');"
   ]
  },
  {
   "cell_type": "markdown",
   "id": "66672f1d",
   "metadata": {},
   "source": [
    "**Question:** What can we say about the relationship between the year and the speed of the winner?"
   ]
  },
  {
   "cell_type": "markdown",
   "id": "f0195352",
   "metadata": {},
   "source": [
    "Now, let's check the condition of the track vs. the speed of the winner."
   ]
  },
  {
   "cell_type": "code",
   "execution_count": null,
   "id": "6e047bf8",
   "metadata": {},
   "outputs": [],
   "source": [
    "derby.groupby('condition')['speed'].describe()"
   ]
  },
  {
   "cell_type": "code",
   "execution_count": null,
   "id": "9a2c1497",
   "metadata": {},
   "outputs": [],
   "source": [
    "sns.boxplot(data = derby,\n",
    "           x = 'condition',\n",
    "           y = 'speed');"
   ]
  },
  {
   "cell_type": "markdown",
   "id": "e0a4245e",
   "metadata": {},
   "source": [
    "Finally, let's see how the relationship between the number of starters and the speed looks."
   ]
  },
  {
   "cell_type": "code",
   "execution_count": null,
   "id": "e49ae94c",
   "metadata": {},
   "outputs": [],
   "source": [
    "derby.plot(kind = 'scatter', x = 'starters', y = 'speed');"
   ]
  },
  {
   "cell_type": "markdown",
   "id": "379a6e1b",
   "metadata": {},
   "source": [
    "It looks like as the number of starters increases, the speed increases as well. But maybe there is something else going on. What does it look like if we compare the year to the number of starters?"
   ]
  },
  {
   "cell_type": "code",
   "execution_count": null,
   "id": "6c4626b0",
   "metadata": {},
   "outputs": [],
   "source": [
    "derby.plot(kind = 'scatter', x = 'year', y = 'starters');"
   ]
  },
  {
   "cell_type": "markdown",
   "id": "8dcc532d",
   "metadata": {},
   "source": [
    "**Question:** What does this plot reveal?"
   ]
  },
  {
   "cell_type": "markdown",
   "id": "8376a7fd",
   "metadata": {},
   "source": [
    "## Fitting a Linear Regression Model\n",
    "\n",
    "In order to fit a linear regression model, we'll make use of the formula api from statsmodels. This allows us to specify a [patsy formula](https://patsy.readthedocs.io/en/latest/formulas.html) for our model. A patsy formula looks like\n",
    "\n",
    "```'target variable ~ predictor variables'```\n",
    "\n",
    "Let's start by fitting a model for the speed based on the year. This can help us understand the trend that we can see from our scatterplot."
   ]
  },
  {
   "cell_type": "code",
   "execution_count": null,
   "id": "436c5b4f",
   "metadata": {},
   "outputs": [],
   "source": [
    "lm = smf.ols('speed ~ year', data = derby).fit()\n",
    "lm.summary()"
   ]
  },
  {
   "cell_type": "markdown",
   "id": "dcea5230",
   "metadata": {},
   "source": [
    "**Question:** How do we interpret these coefficients?"
   ]
  },
  {
   "cell_type": "markdown",
   "id": "fd308e4f",
   "metadata": {},
   "source": [
    "We can also plot our line on top of the scatterplot to visually see how well it seems to do."
   ]
  },
  {
   "cell_type": "code",
   "execution_count": null,
   "id": "d40d944f",
   "metadata": {},
   "outputs": [],
   "source": [
    "derby.plot(x = 'year', y = 'speed', kind = 'scatter')\n",
    "plt.plot(derby['year'], lm.fittedvalues, color = 'black');"
   ]
  },
  {
   "cell_type": "markdown",
   "id": "27baa9ec",
   "metadata": {},
   "source": [
    "When fitting a linear regression model, we are assuming that there is a **linear** relationship between the predictor variables and the target variable. This means that a fixed change in the predictor has the same effect on the estimated mean of the target. In this case, the assumption of linearity would say that the average speed of the winner has been increasing at a constant rate over time.\n",
    "\n",
    "We can sometimes spot a violation of this assumption through the original scatterplot or through a plot of the residuals. We want the residuals to appear to have no clear patterns."
   ]
  },
  {
   "cell_type": "code",
   "execution_count": null,
   "id": "b386431d",
   "metadata": {},
   "outputs": [],
   "source": [
    "plt.scatter(lm.fittedvalues, lm.resid)\n",
    "xmin, xmax = plt.xlim()\n",
    "plt.hlines(y = 0, xmin = xmin, xmax = xmax, color = 'black')\n",
    "plt.xlim(xmin, xmax);"
   ]
  },
  {
   "cell_type": "markdown",
   "id": "1021f0a0",
   "metadata": {},
   "source": [
    "The pattern that is visible in the residuals indicates that perhaps a quadratic fit might be better. We can do this by adding another predictor variable to our model."
   ]
  },
  {
   "cell_type": "code",
   "execution_count": null,
   "id": "3960dacf",
   "metadata": {},
   "outputs": [],
   "source": [
    "lm_quad = smf.ols('speed ~ year + I(year**2)', data = derby).fit()\n",
    "lm_quad.summary()"
   ]
  },
  {
   "cell_type": "code",
   "execution_count": null,
   "id": "ba0ae469",
   "metadata": {},
   "outputs": [],
   "source": [
    "derby.plot(x = 'year', y = 'speed', kind = 'scatter')\n",
    "plt.plot(derby['year'], lm_quad.fittedvalues, color = 'black');"
   ]
  },
  {
   "cell_type": "code",
   "execution_count": null,
   "id": "f3f2676b",
   "metadata": {},
   "outputs": [],
   "source": [
    "plt.scatter(lm_quad.fittedvalues, lm_quad.resid)\n",
    "xmin, xmax = plt.xlim()\n",
    "plt.hlines(y = 0, xmin = xmin, xmax = xmax, color = 'black')\n",
    "plt.xlim(xmin, xmax);"
   ]
  },
  {
   "cell_type": "markdown",
   "id": "915d18ed",
   "metadata": {},
   "source": [
    "Visually, it appears that the quadratic model is a better fit. However, if we want to check whether the coefficient on the squared term is statistically significant, we can do an [ANOVA test](https://online.stat.psu.edu/stat501/lesson/6/6.2) to compare the two models.\n",
    "\n",
    "The null hypothesis for this test is that the coefficients for any new terms are all equal to zero and the alternative is that at least one is nonzero. In this case, the only new term is the squared term, so the alternative hypothesis says that this term has a nonzero coefficient."
   ]
  },
  {
   "cell_type": "code",
   "execution_count": null,
   "id": "6af653c9",
   "metadata": {},
   "outputs": [],
   "source": [
    "sm.stats.anova_lm(lm, lm_quad)"
   ]
  },
  {
   "cell_type": "markdown",
   "id": "c881b9ae",
   "metadata": {},
   "source": [
    "The very small p-value in the bottom right indicates that there is statistically signicant evidence that the quadratic term has a nonzero coefficient."
   ]
  },
  {
   "cell_type": "markdown",
   "id": "401887f6",
   "metadata": {},
   "source": [
    "You may have noticed that statsmodels issues a warning:\n",
    "```\n",
    "[2] The condition number is large, 1.32e+10. This might indicate that there are\n",
    "strong multicollinearity or other numerical problems.\n",
    "```\n",
    "\n",
    "We can remove this warning by standardizing our predictor variable. To do this, we subtract the mean and divide by the standard deviation. The result is that we have predictor variables with mean 0 and standard deviation 1.\n",
    "\n",
    "This does make it more difficult to interpret the results, but it can help statsmodels to fit the model."
   ]
  },
  {
   "cell_type": "code",
   "execution_count": null,
   "id": "03c57764",
   "metadata": {},
   "outputs": [],
   "source": [
    "derby['year_z'] = (derby['year'] - derby['year'].mean()) / derby['year'].std()"
   ]
  },
  {
   "cell_type": "code",
   "execution_count": null,
   "id": "efa45cb1",
   "metadata": {},
   "outputs": [],
   "source": [
    "lm_quad = smf.ols('speed ~ year_z + I(year_z**2)', data = derby).fit()\n",
    "lm_quad.summary()"
   ]
  },
  {
   "cell_type": "markdown",
   "id": "ae3dd050",
   "metadata": {},
   "source": [
    "Since we added a squared term, why don't we check a cubed term as well."
   ]
  },
  {
   "cell_type": "code",
   "execution_count": null,
   "id": "3c8fe7aa",
   "metadata": {},
   "outputs": [],
   "source": [
    "lm_cubic = smf.ols('speed ~ year_z + I(year_z**2) + I(year_z**3)', data = derby).fit()\n",
    "lm_cubic.summary()"
   ]
  },
  {
   "cell_type": "code",
   "execution_count": null,
   "id": "8f11fbd6",
   "metadata": {},
   "outputs": [],
   "source": [
    "derby.plot(x = 'year', y = 'speed', kind = 'scatter')\n",
    "plt.plot(derby['year'], lm_quad.fittedvalues, color = 'blue', label = 'quadratic')\n",
    "plt.plot(derby['year'], lm_cubic.fittedvalues, color = 'red', label = 'cubic')\n",
    "plt.legend();"
   ]
  },
  {
   "cell_type": "markdown",
   "id": "3324cafc",
   "metadata": {},
   "source": [
    "Let's see if the coefficient on the cubed term is significant."
   ]
  },
  {
   "cell_type": "code",
   "execution_count": null,
   "id": "5aeeff4f",
   "metadata": {},
   "outputs": [],
   "source": [
    "sm.stats.anova_lm(lm_quad, lm_cubic)"
   ]
  },
  {
   "cell_type": "markdown",
   "id": "2f001c7b",
   "metadata": {},
   "source": [
    "**Question:** How do we interpret this output?"
   ]
  },
  {
   "cell_type": "markdown",
   "id": "bf97973e",
   "metadata": {},
   "source": [
    "## Question 1: How does the condition of the track affect the speed of the winner, after controlling for the year?\n",
    "\n",
    "Now, let's add the condition of the track. This is a categorical variable, but statsmodels can recognize this and automatically account for that."
   ]
  },
  {
   "cell_type": "code",
   "execution_count": null,
   "id": "b7eb27d6",
   "metadata": {},
   "outputs": [],
   "source": [
    "lm_condition = smf.ols('speed ~ year_z + I(year_z**2) + condition', data = derby).fit()\n",
    "lm_condition.summary()"
   ]
  },
  {
   "cell_type": "markdown",
   "id": "e08613a7",
   "metadata": {},
   "source": [
    "Let's check and see if any of the new coefficients are statistically significant."
   ]
  },
  {
   "cell_type": "code",
   "execution_count": null,
   "id": "e7edbe3b",
   "metadata": {},
   "outputs": [],
   "source": [
    "sm.stats.anova_lm(lm_quad, lm_condition)"
   ]
  },
  {
   "cell_type": "markdown",
   "id": "7292179f",
   "metadata": {},
   "source": [
    "**Questions:** \n",
    "\n",
    "* Can we conclude that the effect of the condition is statistically significant, after accounting for year?\n",
    "* How do we interpret the coefficients?"
   ]
  },
  {
   "cell_type": "markdown",
   "id": "1a711ef9",
   "metadata": {},
   "source": [
    "Let's also see how our fitted model looks against the data."
   ]
  },
  {
   "cell_type": "code",
   "execution_count": null,
   "id": "6a475789",
   "metadata": {},
   "outputs": [],
   "source": [
    "yearmin, yearmax = derby['year'].min(), derby['year'].max()\n",
    "yearzmin, yearzmax = derby['year_z'].min(), derby['year_z'].max()\n",
    "\n",
    "colors = ['blue', 'orange', 'black']\n",
    "\n",
    "ax = sns.scatterplot(data = derby,\n",
    "                     x = 'year',\n",
    "                     y = 'speed',\n",
    "                     hue = 'condition',\n",
    "                     palette = colors)\n",
    "for condition, color in zip(['good', 'slow', 'fast'], colors):\n",
    "    pred = pd.DataFrame({\n",
    "            'year': np.linspace(start = yearmin, stop = yearmax, num = 50),\n",
    "            'year_z': np.linspace(start = yearzmin, stop = yearzmax, num = 50),\n",
    "            'condition': condition\n",
    "        })\n",
    "    pred['prediction'] = lm_condition.predict(pred)\n",
    "    \n",
    "    pred.plot(x = 'year', y = 'prediction', color = color, ax = ax, label = '')\n",
    "\n",
    "plt.legend();"
   ]
  },
  {
   "cell_type": "markdown",
   "id": "2b9f00a7",
   "metadata": {},
   "source": [
    "## Interactions\n",
    "\n",
    "\n",
    "You may notice that the curve for slow conditions looks to be a bit low for the higher years.\n",
    "\n",
    "Does the effect of year differ for different track conditions and can we estimate that effect from our data? To check this, we can add interaction terms. These are created by multiplying our variables together."
   ]
  },
  {
   "cell_type": "code",
   "execution_count": null,
   "id": "69a66e72",
   "metadata": {},
   "outputs": [],
   "source": [
    "lm_interaction = smf.ols('speed ~ year_z + I(year_z**2) + condition + (year_z + I(year_z**2)):condition', data = derby).fit()\n",
    "lm_interaction.summary()"
   ]
  },
  {
   "cell_type": "code",
   "execution_count": null,
   "id": "d425b1f6",
   "metadata": {},
   "outputs": [],
   "source": [
    "sm.stats.anova_lm(lm_condition, lm_interaction)"
   ]
  },
  {
   "cell_type": "code",
   "execution_count": null,
   "id": "89c74816",
   "metadata": {},
   "outputs": [],
   "source": [
    "yearmin, yearmax = derby['year'].min(), derby['year'].max()\n",
    "yearzmin, yearzmax = derby['year_z'].min(), derby['year_z'].max()\n",
    "\n",
    "colors = ['blue', 'orange', 'black']\n",
    "\n",
    "ax = sns.scatterplot(data = derby,\n",
    "                     x = 'year',\n",
    "                     y = 'speed',\n",
    "                     hue = 'condition',\n",
    "                     palette = colors)\n",
    "\n",
    "for condition, color in zip(['good', 'slow', 'fast'], colors):\n",
    "    pred = pd.DataFrame({\n",
    "            'year': np.linspace(start = yearmin, stop = yearmax, num = 50),\n",
    "            'year_z': np.linspace(start = yearzmin, stop = yearzmax, num = 50),\n",
    "            'condition': condition\n",
    "        })\n",
    "    pred['prediction'] = lm_interaction.predict(pred)\n",
    "    \n",
    "    pred.plot(x = 'year', y = 'prediction', color = color, ax = ax, label = '')\n",
    "\n",
    "plt.legend();"
   ]
  },
  {
   "cell_type": "markdown",
   "id": "21eff477",
   "metadata": {},
   "source": [
    "**Question:** The curve for good tracks looks strange for the more recent years. What is going on there?"
   ]
  },
  {
   "cell_type": "markdown",
   "id": "bcb07f74",
   "metadata": {},
   "source": [
    "## Question 2: Does the number of starters have a statistically significant effect, after controlling for the year and the condition of the track?"
   ]
  },
  {
   "cell_type": "code",
   "execution_count": null,
   "id": "ae595234",
   "metadata": {},
   "outputs": [],
   "source": [
    "lm_starters = smf.ols('speed ~ year_z + I(year_z**2) + condition + starters + (year_z + I(year_z**2)):condition', data = derby).fit()\n",
    "lm_starters.summary()"
   ]
  },
  {
   "cell_type": "code",
   "execution_count": null,
   "id": "e93d894f",
   "metadata": {},
   "outputs": [],
   "source": [
    "sm.stats.anova_lm(lm_interaction, lm_starters)"
   ]
  },
  {
   "cell_type": "markdown",
   "id": "37a50154",
   "metadata": {},
   "source": [
    "**Question:** What conclusion can we draw from this test?"
   ]
  },
  {
   "cell_type": "markdown",
   "id": "252a0f34",
   "metadata": {},
   "source": [
    "Recall that originally, it appeared that there might be a quadratic relationship. Let's check the residuals of our interaction model vs. the number of starters and see if that quadratic trend still appears."
   ]
  },
  {
   "cell_type": "code",
   "execution_count": null,
   "id": "d7c2fc4c",
   "metadata": {},
   "outputs": [],
   "source": [
    "plt.scatter(x = derby['starters'], y = lm_interaction.resid);"
   ]
  },
  {
   "cell_type": "markdown",
   "id": "2ed8ac3d",
   "metadata": {},
   "source": [
    "Let's see what happens if we add this to our model."
   ]
  },
  {
   "cell_type": "code",
   "execution_count": null,
   "id": "8ae2ec02",
   "metadata": {},
   "outputs": [],
   "source": [
    "lm_starters_quad = smf.ols('speed ~ year_z + I(year_z**2) + condition + starters + I(starters**2) + (year_z + I(year_z**2)):condition', data = derby).fit()\n",
    "lm_starters_quad.summary()"
   ]
  },
  {
   "cell_type": "code",
   "execution_count": null,
   "id": "543099b7",
   "metadata": {},
   "outputs": [],
   "source": [
    "sm.stats.anova_lm(lm_interaction, lm_starters_quad)"
   ]
  },
  {
   "cell_type": "markdown",
   "id": "45f4199b",
   "metadata": {},
   "source": [
    "How can we interpret these coefficients?\n",
    "\n",
    "A negative coefficient on the squared term says that the estimated mean will increase as the number of starters increases up to a point and then decrease. If we want to find the maximum, we can use a little bit of algebra."
   ]
  },
  {
   "cell_type": "code",
   "execution_count": null,
   "id": "fe6e3139",
   "metadata": {},
   "outputs": [],
   "source": [
    "a = lm_starters_quad.params['I(starters ** 2)']\n",
    "b = lm_starters_quad.params['starters']\n",
    "\n",
    "print(-b/(2*a))"
   ]
  }
 ],
 "metadata": {
  "kernelspec": {
   "display_name": "Python 3 (ipykernel)",
   "language": "python",
   "name": "python3"
  },
  "language_info": {
   "codemirror_mode": {
    "name": "ipython",
    "version": 3
   },
   "file_extension": ".py",
   "mimetype": "text/x-python",
   "name": "python",
   "nbconvert_exporter": "python",
   "pygments_lexer": "ipython3",
   "version": "3.11.4"
  }
 },
 "nbformat": 4,
 "nbformat_minor": 5
}
